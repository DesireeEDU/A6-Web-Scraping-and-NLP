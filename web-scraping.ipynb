{
 "cells": [
  {
   "cell_type": "markdown",
   "metadata": {},
   "source": [
    "# Web Mining and Applied NLP (44-620)\n",
    "\n",
    "## Web Scraping and NLP with Requests, BeautifulSoup, and spaCy\n",
    "\n",
    "### Student Name: Desiree Thompson - https://github.com/DesireeEDU/A6-Web-Scraping-and-NLP\n",
    "\n",
    "Perform the tasks described in the Markdown cells below.  When you have completed the assignment make sure your code cells have all been run (and have output beneath them) and ensure you have committed and pushed ALL of your changes to your assignment repository.\n",
    "\n",
    "Every question that requires you to write code will have a code cell underneath it; you may either write your entire solution in that cell or write it in a python file (`.py`), then import and run the appropriate code to answer the question."
   ]
  },
  {
   "cell_type": "code",
   "execution_count": 439,
   "metadata": {},
   "outputs": [
    {
     "name": "stdout",
     "output_type": "stream",
     "text": [
      "Package                   Version\n",
      "------------------------- --------\n",
      "anyio                     3.7.1\n",
      "argon2-cffi               21.3.0\n",
      "argon2-cffi-bindings      21.2.0\n",
      "arrow                     1.2.3\n",
      "asttokens                 2.2.1\n",
      "async-lru                 2.0.3\n",
      "attrs                     23.1.0\n",
      "Babel                     2.12.1\n",
      "backcall                  0.2.0\n",
      "beautifulsoup4            4.12.2\n",
      "bleach                    6.0.0\n",
      "blis                      0.7.9\n",
      "catalogue                 2.0.8\n",
      "certifi                   2023.5.7\n",
      "cffi                      1.15.1\n",
      "charset-normalizer        3.2.0\n",
      "click                     8.1.5\n",
      "colorama                  0.4.6\n",
      "comm                      0.1.3\n",
      "confection                0.1.0\n",
      "contourpy                 1.1.0\n",
      "cycler                    0.11.0\n",
      "cymem                     2.0.7\n",
      "debugpy                   1.6.7\n",
      "decorator                 5.1.1\n",
      "defusedxml                0.7.1\n",
      "en-core-web-sm            3.6.0\n",
      "executing                 1.2.0\n",
      "fastjsonschema            2.17.1\n",
      "fonttools                 4.40.0\n",
      "fqdn                      1.5.1\n",
      "html5lib                  1.1\n",
      "idna                      3.4\n",
      "ipykernel                 6.24.0\n",
      "ipython                   8.14.0\n",
      "isoduration               20.11.0\n",
      "jedi                      0.18.2\n",
      "Jinja2                    3.1.2\n",
      "joblib                    1.3.1\n",
      "json5                     0.9.14\n",
      "jsonpointer               2.4\n",
      "jsonschema                4.18.0\n",
      "jsonschema-specifications 2023.6.1\n",
      "jupyter_client            8.3.0\n",
      "jupyter_core              5.3.1\n",
      "jupyter-events            0.6.3\n",
      "jupyter-lsp               2.2.0\n",
      "jupyter_server            2.7.0\n",
      "jupyter_server_terminals  0.4.4\n",
      "jupyterlab                4.0.2\n",
      "jupyterlab-pygments       0.2.2\n",
      "jupyterlab_server         2.23.0\n",
      "kiwisolver                1.4.4\n",
      "langcodes                 3.3.0\n",
      "lyricsgenius              3.0.1\n",
      "MarkupSafe                2.1.3\n",
      "matplotlib                3.7.2\n",
      "matplotlib-inline         0.1.6\n",
      "mistune                   3.0.1\n",
      "murmurhash                1.0.9\n",
      "nbclient                  0.8.0\n",
      "nbconvert                 7.6.0\n",
      "nbformat                  5.9.1\n",
      "nest-asyncio              1.5.6\n",
      "nltk                      3.8.1\n",
      "notebook_shim             0.2.3\n",
      "numpy                     1.25.1\n",
      "overrides                 7.3.1\n",
      "packaging                 23.1\n",
      "pandocfilters             1.5.0\n",
      "parso                     0.8.3\n",
      "pathy                     0.10.2\n",
      "pickleshare               0.7.5\n",
      "Pillow                    10.0.0\n",
      "pip                       23.1.2\n",
      "platformdirs              3.8.1\n",
      "preshed                   3.0.8\n",
      "prometheus-client         0.17.1\n",
      "prompt-toolkit            3.0.39\n",
      "psutil                    5.9.5\n",
      "pure-eval                 0.2.2\n",
      "pycparser                 2.21\n",
      "pydantic                  1.10.11\n",
      "Pygments                  2.15.1\n",
      "pyparsing                 3.0.9\n",
      "python-dateutil           2.8.2\n",
      "python-json-logger        2.0.7\n",
      "pywin32                   306\n",
      "pywinpty                  2.0.10\n",
      "PyYAML                    6.0\n",
      "pyzmq                     25.1.0\n",
      "referencing               0.29.1\n",
      "regex                     2023.6.3\n",
      "requests                  2.31.0\n",
      "rfc3339-validator         0.1.4\n",
      "rfc3986-validator         0.1.1\n",
      "rpds-py                   0.8.10\n",
      "Send2Trash                1.8.2\n",
      "setuptools                65.5.0\n",
      "six                       1.16.0\n",
      "smart-open                6.3.0\n",
      "sniffio                   1.3.0\n",
      "soupsieve                 2.4.1\n",
      "spacy                     3.6.0\n",
      "spacy-legacy              3.0.12\n",
      "spacy-loggers             1.0.4\n",
      "spacytextblob             4.0.0\n",
      "srsly                     2.4.6\n",
      "stack-data                0.6.2\n",
      "terminado                 0.17.1\n",
      "textblob                  0.15.3\n",
      "thinc                     8.1.10\n",
      "tinycss2                  1.2.1\n",
      "tornado                   6.3.2\n",
      "tqdm                      4.65.0\n",
      "traitlets                 5.9.0\n",
      "typer                     0.9.0\n",
      "typing_extensions         4.7.1\n",
      "uri-template              1.3.0\n",
      "urllib3                   2.0.3\n",
      "wasabi                    1.1.2\n",
      "wcwidth                   0.2.6\n",
      "webcolors                 1.13\n",
      "webencodings              0.5.1\n",
      "websocket-client          1.6.1\n",
      "All prereqs installed.\n"
     ]
    },
    {
     "name": "stderr",
     "output_type": "stream",
     "text": [
      "\n",
      "[notice] A new release of pip is available: 23.1.2 -> 23.2.1\n",
      "[notice] To update, run: python.exe -m pip install --upgrade pip\n"
     ]
    }
   ],
   "source": [
    "# Create and activate a Python virtual environment. \n",
    "# Before starting the project, try all these imports FIRST\n",
    "# Address any errors you get running this code cell \n",
    "# by installing the necessary packages into your active Python environment.\n",
    "# Try to resolve issues using your materials and the web.\n",
    "# If that doesn't work, ask for help in the discussion forums.\n",
    "# You can't complete the exercises until you import these - start early! \n",
    "# We also import pickle and Counter (included in the Python Standard Library).\n",
    "\n",
    "from collections import Counter\n",
    "import pickle\n",
    "import requests\n",
    "import spacy\n",
    "from bs4 import BeautifulSoup\n",
    "import matplotlib.pyplot as plt\n",
    "\n",
    "!pip list\n",
    "\n",
    "print('All prereqs installed.')"
   ]
  },
  {
   "cell_type": "markdown",
   "metadata": {},
   "source": [
    "#### Question 1"
   ]
  },
  {
   "cell_type": "markdown",
   "metadata": {},
   "source": [
    "1. Write code that extracts the article html from https://web.archive.org/web/20210327165005/https://hackaday.com/2021/03/22/how-laser-headlights-work/ and dumps it to a .pkl (or other appropriate file)"
   ]
  },
  {
   "cell_type": "code",
   "execution_count": 440,
   "metadata": {},
   "outputs": [],
   "source": [
    "import requests\n",
    "\n",
    "# Use \"requests\" to pull information from the selected web page\n",
    "response = requests.get('https://web.archive.org/web/20210327165005/https://hackaday.com/2021/03/22/how-laser-headlights-work/')\n",
    "\n",
    "# Check status\n",
    "#print(response.status_code)\n",
    "# Check content type\n",
    "#print(response.headers['content-type'])\n",
    "# # Prints full HTML text \n",
    "# print(response.text)\n",
    "\n",
    "# parser = \"html5lib\"\n",
    "parser = \"html.parser\"\n",
    "\n",
    "soup = BeautifulSoup(response.text, parser)\n",
    "\n",
    "#print(soup)\n",
    "#print(soup.prettify())\n",
    "\n"
   ]
  },
  {
   "cell_type": "markdown",
   "metadata": {},
   "source": [
    "2. Read in your article's html source from the file you created in question 1 and print it's text (use `.get_text()`)"
   ]
  },
  {
   "cell_type": "code",
   "execution_count": 441,
   "metadata": {},
   "outputs": [
    {
     "name": "stdout",
     "output_type": "stream",
     "text": [
      "\n",
      "\n",
      "How Laser Headlights Work\n",
      "\n",
      "\n",
      "                130 Comments            \n",
      "\n",
      "by:\n",
      "Lewin Day\n",
      "\n",
      "\n",
      "\n",
      "March 22, 2021\n",
      "\n",
      "\n",
      "\n",
      "\n",
      "\n",
      "\n",
      "\n",
      "\n",
      "When we think about the onward march of automotive technology, headlights aren’t usually the first thing that come to mind. Engines, fuel efficiency, and the switch to electric power are all more front of mind. However, that doesn’t mean there aren’t thousands of engineers around the world working to improve the state of the art in automotive lighting day in, day out.\n",
      "Sealed beam headlights gave way to more modern designs once regulations loosened up, while bulbs moved from simple halogens to xenon HIDs and, more recently, LEDs. Now, a new technology is on the scene, with lasers!\n",
      "\n",
      "Laser Headlights?!\n",
      "BWM’s prototype laser headlight assemblies undergoing testing.\n",
      "The first image brought to mind by the phrase “laser headlights” is that of laser beams firing out the front of an automobile. Obviously, coherent beams of monochromatic light would make for poor illumination outside of a very specific spot quite some distance away. Thankfully for our eyes, laser headlights don’t work in this way at all.\n",
      "Instead, laser headlights consist of one or more solid state laser diodes mounted inside the headlight. These blue lasers are fired at a yellow phosphor, similar to that used in white LEDs. This produces a powerful, vibrant white light that can then be bounced off reflectors and out of the headlights towards the road. Laser headlights built in this way have several benefits. They’re more energy efficient than LEDs that put out the same amount of light, while also being more space efficient, too.\n",
      "BWM’s futuristic i8 was one of the first vehicles to ship with laser headlight technology.\n",
      "Laser headlights are still a nascent technology, thus far only appearing in a few BMW, Audi, and other select vehicles. BMW’s technology was developed in partnership with lighting experts OSRAM. In practice, a regular LED low-beam lamp is used, with the laser used to create an incredibly bright and focused spot, used for high-beams. This can provide illumination out to 600 meters ahead of the vehicle, double that of conventional LED high beams. The lights use indium gallium nitride diode lasers that were originally used in projectors, with power levels above 1 watt. One of the challenges in implementing such technology in an automotive environment is the need for it to operate at temperature extremes. While research lasers and laser pointers may primarily be used at typical room temperatures, automotive headlights must be able to withstand everything from 40 degrees below zero up to 50 degrees C. Thankfully, the laser’s high efficiency means it doesn’t have huge heat output of its own to further complicate things. Other engineering challenges involve tailoring the optics package for the rough-and-tumble, high vibration environment found in the automotive application. It’s also important to ensure, as with any such device, that the end user can’t be exposed to harmful laser radiation in the event of accident or malfunction.\n",
      "Tearing Down the Laser Headlight\n",
      "A marketing image showing the construction of an aftermarket LED/laser headlight. We’d take the laser power with a grain of salt — it’s difficult to imagine a 10 W laser shining directly on some small LEDs without melting a hole through the board in short order.\n",
      "An aftermarket has sprung up too, with delightfully innovative designs. Combined laser/LED headlights are readily available on Alibaba, designed as a drop in replacement for projector lamps on existing vehicles. These often use an LED low-beam, and a combined LED/laser high beam, where the laser diode shoots directly at the LED phosphor to excite it further, rather than using its own. These units often also come with fan cooling to keep the laser and LEDs below their maximum operational temperature. Such developments are exciting, though it’s important to be wary of the performance of unknown aftermarket headlights. Many aftermarket LED headlight “upgrades” fail to pass muster when it comes to real-world performance, and there’s no reason to believe hybrid LED/laser designs will be any different. We’d love to pass a selection of these parts through a full IIHS test protocol, but that’s sadly beyond the scope (and budget!) of this article.\n",
      "However, [mikeselectricstuff] has happened to lay his hands on both the BMW and aftermarket parts, tearing them all down in his workshop to see what makes them tick. The differences are multitude when laid bare on the bench. The AliExpress part is relatively simple, wired up no differently from a regular headlight. Interestingly, however, the laser high-beam circuit runs all the time in these parts. To prevent blinding other road users, a shutter is kept in place to block the light, which is moved out of the way with a solenoid when the driver turns on the high beam switch.\n",
      "Where the aftermarket part is a little out of left field, the BMW design is another thing entirely. The cutting-edge headlights are hooked up with multiple connectors and over 30 conductors, with much of the driver electronics living in an external controller. Much of this is to drive the various LEDs and stepper motors for slewing the headlights when steering. However, the laser assembly brings its own complexities. Twin light sensors are built inside to monitor the laser beam, and a special metal blocking arm sits directly in front of the diode, presumably to stop the laser light leaving the headlight in the event the phosphor coating burns through. It’s truly wild to get a look inside a modern luxury car’s headlight and see just how far we’ve come from the old days of simple sealed beams.\n",
      "Cost Versus Performance\n",
      "Despite the efficiency gains available, the technology remains expensive. Powerful laser diodes don’t come cheap, after all. However, as the technology trickles down to lower-end models, it’s likely that we could see economies of scale change that for the better. Indeed, if national authorities begin to demand higher performance headlights as standard, we could see laser headlights become the norm, rather than an expensive luxury. The technology could naturally be applied to home and commercial lighting, too — though we suspect the potential gains are limited enough that LED lighting will remain the norm for some time to come.\n",
      "The high light output of laser headlights in a compact package allows engineers greater freedom when designing the front-end of a car.\n",
      "As it currently stands, much of the appeal of the new technology is about the packaging benefits, which allow automotive designers greater freedom around the headlight area. Such concerns are less of a factor when it comes to light fittings in the home or office, or indeed, on lower-end automobiles. Regardless, it’s an exciting new application for lasers and one we’ll be sure to see more of in the future.\n",
      " \n",
      "\n",
      "\n",
      "\n",
      "\n",
      " \n",
      "\n",
      "\n",
      "\n",
      "\n",
      "\n",
      "\n",
      "\n",
      "\n",
      "\n",
      "\n",
      "\n",
      "\n",
      "\n",
      "\n",
      "\n",
      "\n",
      "\n",
      "\n",
      "\n",
      "Posted in car hacks, Engineering, Featured, Laser Hacks, SliderTagged laser, laser headlight, laser headlights, light \n",
      "\n"
     ]
    }
   ],
   "source": [
    "from bs4 import BeautifulSoup    \n",
    "\n",
    "with open(\"python-match.pkl\", \"rb\") as f:\n",
    "    article_html = pickle.load(f)\n",
    "\n",
    "parser = \"html.parser\"\n",
    "    \n",
    "soup = BeautifulSoup(article_html, parser)\n",
    "article_element = soup.find(\"article\")\n",
    "\n",
    "print(article_element.get_text())"
   ]
  },
  {
   "cell_type": "markdown",
   "metadata": {},
   "source": [
    "#### Question 3"
   ]
  },
  {
   "cell_type": "markdown",
   "metadata": {},
   "source": [
    "3. Load the article text into a trained `spaCy` pipeline, and determine the 5 most frequent tokens (converted to lower case).  Print the common tokens with an appropriate label.  Additionally, print the tokens their frequencies (with appropriate labels). Make sure to remove things we don't care about (punctuation, stopwords, whitespace)."
   ]
  },
  {
   "cell_type": "code",
   "execution_count": 442,
   "metadata": {},
   "outputs": [
    {
     "name": "stdout",
     "output_type": "stream",
     "text": [
      "The most common tokens and their respective frequencies are as follows:[('laser', 29), ('headlights', 17), ('technology', 10), ('headlight', 10), ('LED', 10)]\n"
     ]
    }
   ],
   "source": [
    "nlp = spacy.load(\"en_core_web_sm\")\n",
    "nlp.add_pipe(\"spacytextblob\")\n",
    "doc = nlp(article_element.get_text())\n",
    "\n",
    "\n",
    "non_ws_tokens = []\n",
    "for token in doc:\n",
    "    if not token.is_space:\n",
    "        non_ws_tokens.append(token)\n",
    "#print(non_ws_tokens)\n",
    "\n",
    "def we_care_about(token):\n",
    "    return not (token.is_space or token.is_punct or token.is_stop)\n",
    "\n",
    "interesting_tokens = [token for token in doc if we_care_about(token)]\n",
    "\n",
    "token_freq = Counter(map(str, interesting_tokens))\n",
    "\n",
    "\n",
    "print(f\"The most common tokens and their respective frequencies are as follows:{token_freq.most_common(5)}\")\n",
    "\n"
   ]
  },
  {
   "cell_type": "markdown",
   "metadata": {},
   "source": [
    "#### Question 4"
   ]
  },
  {
   "cell_type": "markdown",
   "metadata": {},
   "source": [
    "4. Load the article text into a trained `spaCy` pipeline, and determine the 5 most frequent lemmas (converted to lower case).  Print the common lemmas with an appropriate label.  Additionally, print the lemmas with their frequencies (with appropriate labels). Make sure to remove things we don't care about (punctuation, stopwords, whitespace)."
   ]
  },
  {
   "cell_type": "code",
   "execution_count": 443,
   "metadata": {},
   "outputs": [
    {
     "name": "stdout",
     "output_type": "stream",
     "text": [
      "The most common lemmas and their respective frequencies are as follows:[('technology', 1), ('laser', 1), ('light', 1), ('beam', 1), ('headlight', 1)]\n"
     ]
    }
   ],
   "source": [
    "intersting_lemmas = [token.lemma_.lower() for token in doc if we_care_about(token)]\n",
    "lemma_freq = Counter(interesting_lemmas)\n",
    "print(f\"The most common lemmas and their respective frequencies are as follows:{lemma_freq.most_common(5)}\")"
   ]
  },
  {
   "cell_type": "markdown",
   "metadata": {},
   "source": [
    "#### Question 5"
   ]
  },
  {
   "cell_type": "markdown",
   "metadata": {},
   "source": [
    "5. Define the following methods:\n",
    "    * `score_sentence_by_token(sentence, interesting_token)` that takes a sentence and a list of interesting token and returns the number of times that any of the interesting words appear in the sentence divided by the number of words in the sentence\n",
    "    * `score_sentence_by_lemma(sentence, interesting_lemmas)` that takes a sentence and a list of interesting lemmas and returns the number of times that any of the interesting lemmas appear in the sentence divided by the number of words in the sentence\n",
    "    \n",
    "You may find some of the code from the in class notes useful; feel free to use methods (rewrite them in this cell as well).  Test them by showing the score of the first sentence in your article using the frequent tokens and frequent lemmas identified in question 3."
   ]
  },
  {
   "cell_type": "code",
   "execution_count": 444,
   "metadata": {},
   "outputs": [
    {
     "name": "stdout",
     "output_type": "stream",
     "text": [
      "The sentence score by token is: 0.17.\n",
      "The sentence score by lemma is: 0.083.\n"
     ]
    }
   ],
   "source": [
    "sentences = list(doc.sents)\n",
    "\n",
    "interesting_tokens = set()\n",
    "for token, freq in token_freq.most_common(5):\n",
    "    interesting_tokens.add(token)\n",
    "    \n",
    "interesting_lemmas = set()\n",
    "for lemma, freq in lemma_freq.most_common(5):\n",
    "    interesting_lemmas.add(lemma)\n",
    "\n",
    "def score_sentence_by_token(sentence, interesting_tokens):\n",
    "    token_count = 0\n",
    "    for token in sentence:\n",
    "        if token.lemma_.lower() in interesting_tokens:\n",
    "            token_count += 1\n",
    "    sentence_count = 0    \n",
    "    for token in sentence:\n",
    "        if not (token.is_space or token.is_punct):\n",
    "            sentence_count += 1\n",
    "            \n",
    "    return token_count / sentence_count\n",
    "\n",
    "def score_sentence_by_lemma(sentence, interesting_lemmas):\n",
    "    lemma_count = 0\n",
    "    for lemma in sentence:\n",
    "        if lemma.lemma_.lower() in interesting_lemmas:\n",
    "            lemma_count += 1\n",
    "    sentence_count = 0    \n",
    "    for token in sentence:\n",
    "        if not (token.is_space or token.is_punct):\n",
    "            sentence_count += 1\n",
    "            \n",
    "    return lemma_count / sentence_count\n",
    "\n",
    "print(f\"The sentence score by token is: {score_sentence_by_token(sentence[0], interesting_tokens):.2}.\")\n",
    "print(f\"The sentence score by lemma is: {score_sentence_by_lemma(sentence[0], interesting_lemmas):.2}.\")\n"
   ]
  },
  {
   "cell_type": "markdown",
   "metadata": {},
   "source": [
    "6. Make a list containing the scores (using tokens) of every sentence in the article, and plot a histogram with appropriate titles and axis labels of the scores. From your histogram, what seems to be the most common range of scores (put the answer in a comment after your code)?"
   ]
  },
  {
   "cell_type": "code",
   "execution_count": 445,
   "metadata": {},
   "outputs": [
    {
     "data": {
      "image/png": "[encoded data removed]",
      "text/plain": [
       "<Figure size 640x480 with 1 Axes>"
      ]
     },
     "metadata": {},
     "output_type": "display_data"
    },
    {
     "name": "stdout",
     "output_type": "stream",
     "text": [
      "The most common range of token scores is between 0 and 0.1.\n"
     ]
    }
   ],
   "source": [
    "token_list = []\n",
    "for i in range (0, len(sentences)):    \n",
    "   token_list.append(score_sentence_by_token(sentence[i], interesting_tokens))\n",
    "plt.hist(token_list)\n",
    "plt.title(\" Frequency of Sentence Scores Using Tokens\")\n",
    "plt.xlabel(\"token scores\")\n",
    "plt.ylabel(\"frequency\")\n",
    "plt.show()\n",
    "\n",
    "print(\"The most common range of token scores is between 0 and 0.1.\")"
   ]
  },
  {
   "cell_type": "markdown",
   "metadata": {},
   "source": [
    "#### Question 7"
   ]
  },
  {
   "cell_type": "markdown",
   "metadata": {},
   "source": [
    "7. Make a list containing the scores (using lemmas) of every sentence in the article, and plot a histogram with appropriate titles and axis labels of the scores.  From your histogram, what seems to be the most common range of scores (put the answer in a comment after your code)?"
   ]
  },
  {
   "cell_type": "code",
   "execution_count": 446,
   "metadata": {},
   "outputs": [
    {
     "data": {
      "image/png": "[encoded data removed]",
      "text/plain": [
       "<Figure size 640x480 with 1 Axes>"
      ]
     },
     "metadata": {},
     "output_type": "display_data"
    },
    {
     "name": "stdout",
     "output_type": "stream",
     "text": [
      "The most common range of lemma scores is also between 0 and 0.1.\n"
     ]
    }
   ],
   "source": [
    "lemma_list = []\n",
    "for i in range (0, len(sentences)):    \n",
    "   lemma_list.append(score_sentence_by_lemma(sentence[i], interesting_tokens))\n",
    "plt.hist(lemma_list)\n",
    "plt.title(\"Frequency of Sentence Scores Using Lemmas\")\n",
    "plt.xlabel(\" lemma scores\")\n",
    "plt.ylabel(\"frequency\")\n",
    "plt.show()\n",
    "\n",
    "print(\"The most common range of lemma scores is also between 0 and 0.1.\")"
   ]
  },
  {
   "cell_type": "markdown",
   "metadata": {},
   "source": [
    "8. Which tokens and lexems would be ommitted from the lists generated in questions 3 and 4 if we only wanted to consider nouns as interesting words?  How might we change the code to only consider nouns? Put your answer in this Markdown cell (you can edit it by double clicking it).\n",
    "\n",
    "Response:\n",
    "    None of the token or lexems would be ommitted as they are currently all nouns. If we would only like to consider nouns as interesting words, then we would need to create a custom stopwords file that would allow us to adjust the stop words list so that any specific words that we did not wish to include would be automatically excluded. \n"
   ]
  }
 ],
 "metadata": {
  "kernelspec": {
   "display_name": "Python 3",
   "language": "python",
   "name": "python3"
  },
  "language_info": {
   "codemirror_mode": {
    "name": "ipython",
    "version": 3
   },
   "file_extension": ".py",
   "mimetype": "text/x-python",
   "name": "python",
   "nbconvert_exporter": "python",
   "pygments_lexer": "ipython3",
   "version": "3.11.4"
  }
 },
 "nbformat": 4,
 "nbformat_minor": 4
}
